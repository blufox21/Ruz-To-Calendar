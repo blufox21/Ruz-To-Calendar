{
 "cells": [
  {
   "cell_type": "code",
   "execution_count": 7,
   "id": "4cda62b4",
   "metadata": {},
   "outputs": [],
   "source": [
    "import datetime\n",
    "import os.path\n",
    "\n",
    "import time\n",
    "\n",
    "# google api(календарик)\n",
    "from google.auth.transport.requests import Request\n",
    "from google.oauth2.credentials import Credentials\n",
    "from google_auth_oauthlib.flow import InstalledAppFlow\n",
    "from googleapiclient.discovery import build\n",
    "from googleapiclient.errors import HttpError\n",
    "\n",
    "# beautiful soup(парсить)\n",
    "from bs4 import BeautifulSoup\n",
    "import requests\n",
    "\n",
    "# selenium т.к. оказалось, что страница ruz подгружает кучу инфы при помощи JS\n",
    "from selenium import webdriver\n",
    "from selenium.webdriver.common.by import By\n",
    "from selenium.webdriver.common.keys import Keys\n",
    "from selenium.webdriver.support import expected_conditions as EC\n",
    "from selenium.webdriver.support.ui import WebDriverWait\n",
    "\n",
    "# ИМЯ - меняем на своё\n",
    "my_name = \"Лунев Максим Александрович\"\n",
    "\n",
    "# Если это меняем, то удаляем token.json(меняем тогда, когда меняем scopes в дешборде).\n",
    "SCOPES = ['https://www.googleapis.com/auth/calendar','https://www.googleapis.com/auth/calendar.events','https://www.googleapis.com/auth/calendar.settings.readonly','https://www.googleapis.com/auth/calendar.freebusy']"
   ]
  },
  {
   "cell_type": "code",
   "execution_count": 8,
   "id": "ad1a2bbb",
   "metadata": {},
   "outputs": [],
   "source": [
    "CREDS_FILE = \"credentials.json\""
   ]
  },
  {
   "cell_type": "code",
   "execution_count": 9,
   "id": "6dd2ff9d",
   "metadata": {},
   "outputs": [],
   "source": [
    "def get_creds():\n",
    "    creds = None\n",
    "    # token.json генерится при входе и содержит права и креденты пользователя\n",
    "    \n",
    "    if os.path.exists('token.json'):\n",
    "        creds = Credentials.from_authorized_user_file('token.json', SCOPES)\n",
    "    if not creds or not creds.valid:\n",
    "        if creds and creds.expired and creds.refresh_token:\n",
    "            creds.refresh(Request())\n",
    "        else:\n",
    "            flow = InstalledAppFlow.from_client_secrets_file(CREDS_FILE, SCOPES)\n",
    "            creds = flow.run_local_server(port=0)\n",
    "        with open('token.json','w') as token:\n",
    "            token.write(creds.to_json())\n",
    "    \n",
    "    service = build('calendar', 'v3', credentials=creds)\n",
    "    return service"
   ]
  },
  {
   "cell_type": "code",
   "execution_count": 10,
   "id": "6d28727f",
   "metadata": {},
   "outputs": [
    {
     "name": "stdout",
     "output_type": "stream",
     "text": [
      "Please visit this URL to authorize this application: https://accounts.google.com/o/oauth2/auth?response_type=code&client_id=377600499619-0fgbqe7vv32djqr8g33kau766cj2oe1j.apps.googleusercontent.com&redirect_uri=http%3A%2F%2Flocalhost%3A29148%2F&scope=https%3A%2F%2Fwww.googleapis.com%2Fauth%2Fcalendar+https%3A%2F%2Fwww.googleapis.com%2Fauth%2Fcalendar.events+https%3A%2F%2Fwww.googleapis.com%2Fauth%2Fcalendar.settings.readonly+https%3A%2F%2Fwww.googleapis.com%2Fauth%2Fcalendar.freebusy&state=B9yRQPYFIWqgBlG3cyCOnynnoervVf&access_type=offline\n",
      "Получаем список календарей\n",
      "liliputer517@gmail.com\tliliputer517@gmail.com\tPrimary\n",
      "Holidays in Russia\ten.russian#holiday@group.v.calendar.google.com\t\n",
      "Birthdays\taddressbook#contacts@group.v.calendar.google.com\t\n"
     ]
    }
   ],
   "source": [
    "service = get_creds()\n",
    "print('Получаем список календарей')\n",
    "calendars = service.calendarList().list().execute().get('items',[])\n",
    "\n",
    "if not calendars:\n",
    "    print('Календарей не найдено')\n",
    "for calendar in calendars:\n",
    "    summ = calendar['summary']\n",
    "    id = calendar['id']\n",
    "    primary = \"Primary\" if calendar.get('primary') else \"\"\n",
    "    print(\"%s\\t%s\\t%s\" % (summ, id, primary))"
   ]
  },
  {
   "cell_type": "code",
   "execution_count": 54,
   "id": "5e9e5fff",
   "metadata": {},
   "outputs": [
    {
     "name": "stdout",
     "output_type": "stream",
     "text": [
      "099ph3ho74l27mtfd3ptndkko8 - test event\n"
     ]
    }
   ],
   "source": [
    "now = datetime.datetime.utcnow().isoformat() + 'Z'\n",
    "events = service.events().list(calendarId='primary', timeMin=now, singleEvents=True).execute()\n",
    "for event in events['items']:\n",
    "    print(event['id'] + ' - ' + event['summary'])"
   ]
  },
  {
   "cell_type": "code",
   "execution_count": 55,
   "id": "07b8df8d",
   "metadata": {},
   "outputs": [
    {
     "data": {
      "text/plain": [
       "{'kind': 'calendar#event',\n",
       " 'etag': '\"3286463698388000\"',\n",
       " 'id': '099ph3ho74l27mtfd3ptndkko8',\n",
       " 'status': 'confirmed',\n",
       " 'htmlLink': 'https://www.google.com/calendar/event?eid=MDk5cGgzaG83NGwyN210ZmQzcHRuZGtrbzggbGlsaXB1dGVyNTE3QG0',\n",
       " 'created': '2022-01-26T20:25:28.000Z',\n",
       " 'updated': '2022-01-26T21:17:29.194Z',\n",
       " 'summary': 'test event(upd)',\n",
       " 'creator': {'email': 'liliputer517@gmail.com', 'self': True},\n",
       " 'organizer': {'email': 'liliputer517@gmail.com', 'self': True},\n",
       " 'start': {'dateTime': '2022-01-27T17:00:00+03:00',\n",
       "  'timeZone': 'Europe/Moscow'},\n",
       " 'end': {'dateTime': '2022-01-27T18:00:00+03:00', 'timeZone': 'Europe/Moscow'},\n",
       " 'iCalUID': '099ph3ho74l27mtfd3ptndkko8@google.com',\n",
       " 'sequence': 0,\n",
       " 'reminders': {'useDefault': True},\n",
       " 'eventType': 'default'}"
      ]
     },
     "execution_count": 55,
     "metadata": {},
     "output_type": "execute_result"
    }
   ],
   "source": [
    "upd_event = service.events().get(calendarId='primary', eventId='099ph3ho74l27mtfd3ptndkko8').execute()\n",
    "upd_event['summary'] = upd_event['summary']+'(upd)'\n",
    "service.events().update(calendarId='primary', eventId='099ph3ho74l27mtfd3ptndkko8', body=upd_event).execute()"
   ]
  },
  {
   "cell_type": "code",
   "execution_count": 37,
   "id": "3e28d1e7",
   "metadata": {},
   "outputs": [
    {
     "name": "stdout",
     "output_type": "stream",
     "text": [
      "200\n"
     ]
    }
   ],
   "source": [
    "parse_url = 'https://ruz.hse.ru/ruz/main'\n",
    "# посылаем GET запрос\n",
    "ruz = requests.get(parse_url)\n",
    "# если код 200 то всё работает\n",
    "print(ruz.status_code)"
   ]
  },
  {
   "cell_type": "code",
   "execution_count": 44,
   "id": "1c86ac6b",
   "metadata": {},
   "outputs": [
    {
     "name": "stdout",
     "output_type": "stream",
     "text": [
      "[<selenium.webdriver.remote.webelement.WebElement (session=\"9025dcea0bc49421da622e75768ec857\", element=\"9c6fcf54-8d28-444a-aa75-b301d86f0749\")>, <selenium.webdriver.remote.webelement.WebElement (session=\"9025dcea0bc49421da622e75768ec857\", element=\"0f20063a-6adb-46d9-84da-d260e93676a2\")>]\n"
     ]
    }
   ],
   "source": [
    "# бахнем сюда selenium\n",
    "driver = webdriver.Edge()\n",
    "driver.get(parse_url)\n",
    "\n",
    "# вбиваем группу и получаем расписание\n",
    "time.sleep(3)\n",
    "buttons = driver.find_elements(By.XPATH,\"//*[contains(text(), 'Студент')]\")\n",
    "print(buttons)\n",
    "buttons[0].click()\n",
    "time.sleep(1)\n",
    "group = driver.find_element(By.ID, 'autocomplete-student')\n",
    "group.send_keys(my_name)\n",
    "time.sleep(3)\n",
    "group.send_keys(Keys.RETURN)\n",
    "tmp = WebDriverWait(driver, 30).until(EC.presence_of_all_elements_located((By.CSS_SELECTOR, 'div.day')))\n",
    "time.sleep(2)\n",
    "body = driver.find_element(By.CSS_SELECTOR, 'body')\n",
    "body_code = body.get_attribute('innerHTML')\n",
    "\n",
    "# заливаем уже полностью прогруженную страницу в переменную\n",
    "# и парсим данные с помощью bf4\n",
    "\n",
    "driver.quit()"
   ]
  },
  {
   "cell_type": "code",
   "execution_count": 156,
   "id": "79ea5689",
   "metadata": {},
   "outputs": [],
   "source": [
    "ruz = BeautifulSoup(body_code, 'lxml')\n",
    "days = ruz.find_all('div', class_='media day ng-star-inserted')\n",
    "classes = []\n",
    "# каждое занятие имеет класс day, поэтому в переменной day хранится какой-то определенный урок\n",
    "class_i = 0\n",
    "for day in days:\n",
    "    #print(day)\n",
    "    for class_ in day.select(\"span[class=ng-star-inserted]\"):\n",
    "        classes.append([class_.text])\n",
    "    # получаем dates_ - все span занятия, а именно дата, день недели, время\n",
    "    dates_ = day.select(\"div.d-lg-none.date.clearfix\")\n",
    "    for i in dates_:\n",
    "        time = i.select(\"span\")[2]\n",
    "        date = i.select(\"span\")[0]\n",
    "        classes[class_i].append(time.text)\n",
    "        classes[class_i].append(date.text)\n",
    "    class_i+=1"
   ]
  },
  {
   "cell_type": "code",
   "execution_count": 157,
   "id": "ed508aa9",
   "metadata": {},
   "outputs": [
    {
     "data": {
      "text/plain": [
       "[[' Введение в программирование на Java (рус) ',\n",
       "  ' 13:00\\xa0-\\xa014:20 ',\n",
       "  ' 24.01.2022 '],\n",
       " [' Дискретная математика (рус) ', ' 16:20\\xa0-\\xa017:40 ', ' 24.01.2022 '],\n",
       " [' Математический анализ (рус) ', ' 11:10\\xa0-\\xa012:30 ', ' 25.01.2022 '],\n",
       " [' Проектный семинар \"SWOT-анализ\" (рус) ',\n",
       "  ' 14:40\\xa0-\\xa016:00 ',\n",
       "  ' 25.01.2022 '],\n",
       " [' Менеджмент: концепции и технологии 21 века (рус) ',\n",
       "  ' 16:20\\xa0-\\xa017:40 ',\n",
       "  ' 25.01.2022 '],\n",
       " [' Дискретная математика (рус) ', ' 13:00\\xa0-\\xa014:20 ', ' 26.01.2022 '],\n",
       " [' Алгоритмы и структуры данных (рус) ',\n",
       "  ' 14:40\\xa0-\\xa016:00 ',\n",
       "  ' 26.01.2022 '],\n",
       " [' Английский язык для делового общения. Продвинутый курс - 2 (анг) ',\n",
       "  ' 11:10\\xa0-\\xa012:30 ',\n",
       "  ' 27.01.2022 '],\n",
       " [' Математический анализ (рус) ', ' 13:00\\xa0-\\xa014:20 ', ' 27.01.2022 '],\n",
       " [' Алгоритмы и структуры данных (рус) ',\n",
       "  ' 11:10\\xa0-\\xa012:30 ',\n",
       "  ' 28.01.2022 '],\n",
       " [' Алгоритмы и структуры данных (рус) ',\n",
       "  ' 13:00\\xa0-\\xa014:20 ',\n",
       "  ' 28.01.2022 '],\n",
       " [' Английский язык для делового общения. Продвинутый курс - 2 (анг) ',\n",
       "  ' 16:20\\xa0-\\xa017:40 ',\n",
       "  ' 28.01.2022 '],\n",
       " [' Введение в программирование на Java (рус) ',\n",
       "  ' 13:00\\xa0-\\xa014:20 ',\n",
       "  ' 29.01.2022 ']]"
      ]
     },
     "execution_count": 157,
     "metadata": {},
     "output_type": "execute_result"
    }
   ],
   "source": [
    "# получили все данные для расписания, теперь их нужно привести в формат,\n",
    "# читаемый для google calendar api\n",
    "classes"
   ]
  },
  {
   "cell_type": "code",
   "execution_count": 158,
   "id": "1952b0bf",
   "metadata": {},
   "outputs": [
    {
     "data": {
      "text/plain": [
       "[[' Введение в программирование на Java (рус) ',\n",
       "  ' 13:00\\xa0-\\xa014:20 ',\n",
       "  '2022-01-24',\n",
       "  '2022-01-24T13:00:00+03:00',\n",
       "  '2022-01-24T14:20:00+03:00'],\n",
       " [' Дискретная математика (рус) ',\n",
       "  ' 16:20\\xa0-\\xa017:40 ',\n",
       "  '2022-01-24',\n",
       "  '2022-01-24T16:20:00+03:00',\n",
       "  '2022-01-24T17:40:00+03:00'],\n",
       " [' Математический анализ (рус) ',\n",
       "  ' 11:10\\xa0-\\xa012:30 ',\n",
       "  '2022-01-25',\n",
       "  '2022-01-25T11:10:00+03:00',\n",
       "  '2022-01-25T12:30:00+03:00'],\n",
       " [' Проектный семинар \"SWOT-анализ\" (рус) ',\n",
       "  ' 14:40\\xa0-\\xa016:00 ',\n",
       "  '2022-01-25',\n",
       "  '2022-01-25T14:40:00+03:00',\n",
       "  '2022-01-25T16:00:00+03:00'],\n",
       " [' Менеджмент: концепции и технологии 21 века (рус) ',\n",
       "  ' 16:20\\xa0-\\xa017:40 ',\n",
       "  '2022-01-25',\n",
       "  '2022-01-25T16:20:00+03:00',\n",
       "  '2022-01-25T17:40:00+03:00'],\n",
       " [' Дискретная математика (рус) ',\n",
       "  ' 13:00\\xa0-\\xa014:20 ',\n",
       "  '2022-01-26',\n",
       "  '2022-01-26T13:00:00+03:00',\n",
       "  '2022-01-26T14:20:00+03:00'],\n",
       " [' Алгоритмы и структуры данных (рус) ',\n",
       "  ' 14:40\\xa0-\\xa016:00 ',\n",
       "  '2022-01-26',\n",
       "  '2022-01-26T14:40:00+03:00',\n",
       "  '2022-01-26T16:00:00+03:00'],\n",
       " [' Английский язык для делового общения. Продвинутый курс - 2 (анг) ',\n",
       "  ' 11:10\\xa0-\\xa012:30 ',\n",
       "  '2022-01-27',\n",
       "  '2022-01-27T11:10:00+03:00',\n",
       "  '2022-01-27T12:30:00+03:00'],\n",
       " [' Математический анализ (рус) ',\n",
       "  ' 13:00\\xa0-\\xa014:20 ',\n",
       "  '2022-01-27',\n",
       "  '2022-01-27T13:00:00+03:00',\n",
       "  '2022-01-27T14:20:00+03:00'],\n",
       " [' Алгоритмы и структуры данных (рус) ',\n",
       "  ' 11:10\\xa0-\\xa012:30 ',\n",
       "  '2022-01-28',\n",
       "  '2022-01-28T11:10:00+03:00',\n",
       "  '2022-01-28T12:30:00+03:00'],\n",
       " [' Алгоритмы и структуры данных (рус) ',\n",
       "  ' 13:00\\xa0-\\xa014:20 ',\n",
       "  '2022-01-28',\n",
       "  '2022-01-28T13:00:00+03:00',\n",
       "  '2022-01-28T14:20:00+03:00'],\n",
       " [' Английский язык для делового общения. Продвинутый курс - 2 (анг) ',\n",
       "  ' 16:20\\xa0-\\xa017:40 ',\n",
       "  '2022-01-28',\n",
       "  '2022-01-28T16:20:00+03:00',\n",
       "  '2022-01-28T17:40:00+03:00'],\n",
       " [' Введение в программирование на Java (рус) ',\n",
       "  ' 13:00\\xa0-\\xa014:20 ',\n",
       "  '2022-01-29',\n",
       "  '2022-01-29T13:00:00+03:00',\n",
       "  '2022-01-29T14:20:00+03:00']]"
      ]
     },
     "execution_count": 158,
     "metadata": {},
     "output_type": "execute_result"
    }
   ],
   "source": [
    "# формируем время начала и конца пар в формате rc3339\n",
    "for class_ in classes:\n",
    "    class_[2] = class_[2][7:11]+'-'+class_[2][4:6]+'-'+class_[2][1:3]\n",
    "    class_.append(class_[2]+'T'+class_[1][1:6]+':00+03:00')\n",
    "    class_.append(class_[2]+'T'+class_[1][9:14]+':00+03:00')\n",
    "classes"
   ]
  },
  {
   "cell_type": "code",
   "execution_count": 161,
   "id": "572d95b4",
   "metadata": {},
   "outputs": [],
   "source": [
    "# подгружаем всё через api(перед этим нужно войти в api и получить токен в первых нескольких фреймах)\n",
    "for class_ in classes:\n",
    "    class_event = {\n",
    "        \"summary\":class_[0],\n",
    "        \"start\":{\n",
    "            \"dateTime\":class_[3],\n",
    "            \"timeZone\":'Asia/Novosibirsk'\n",
    "        },\n",
    "        \"end\":{\n",
    "            \"dateTime\":class_[4],\n",
    "            \"timeZone\":'Asia/Novosibirsk'\n",
    "        }\n",
    "    }\n",
    "    service.events().insert(calendarId='primary', body=class_event).execute()"
   ]
  },
  {
   "cell_type": "code",
   "execution_count": null,
   "id": "0f40d2fe",
   "metadata": {},
   "outputs": [],
   "source": []
  }
 ],
 "metadata": {
  "kernelspec": {
   "display_name": "Python 3 (ipykernel)",
   "language": "python",
   "name": "python3"
  },
  "language_info": {
   "codemirror_mode": {
    "name": "ipython",
    "version": 3
   },
   "file_extension": ".py",
   "mimetype": "text/x-python",
   "name": "python",
   "nbconvert_exporter": "python",
   "pygments_lexer": "ipython3",
   "version": "3.9.6"
  }
 },
 "nbformat": 4,
 "nbformat_minor": 5
}
